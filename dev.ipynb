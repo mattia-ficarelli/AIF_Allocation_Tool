{
 "cells": [
  {
   "cell_type": "code",
   "execution_count": 2,
   "metadata": {},
   "outputs": [],
   "source": [
    "# import packages\n",
    "import streamlit as st\n",
    "import pandas as pd\n",
    "from PIL import Image\n",
    "import requests\n",
    "from io import BytesIO\n",
    "import SessionState  # this is a script within the working directory"
   ]
  },
  {
   "cell_type": "code",
   "execution_count": 8,
   "metadata": {},
   "outputs": [],
   "source": [
    "path = \"data/gp_practice_weighted_population.xlsx\"  # excel file containing the gp practice level data\n",
    "df = pd.read_excel(path, sheet_name ='GP practice WP by ICS', header = 0 , usecols=\"F:H,I:V\")\n"
   ]
  },
  {
   "cell_type": "code",
   "execution_count": null,
   "metadata": {},
   "outputs": [],
   "source": [
    " df_2 = df_1.groupby('Place Name').agg(\n",
    "            {'GP_pop': 'sum', 'WP_G&A': 'sum', 'WP_CS': 'sum', 'WP_MH': 'sum', 'WP_Mat': 'sum', 'WP_HCHS': 'sum',\n",
    "             'Target_inc_remote_£k': 'sum'})  # aggregates the practices to give the aggregated place values"
   ]
  }
 ],
 "metadata": {
  "interpreter": {
   "hash": "292c795e24700ffeb49481d87674b4a2462b1f5926d60159546f48d450d30bc4"
  },
  "kernelspec": {
   "display_name": "Python 3.9.4 64-bit",
   "language": "python",
   "name": "python3"
  },
  "language_info": {
   "codemirror_mode": {
    "name": "ipython",
    "version": 3
   },
   "file_extension": ".py",
   "mimetype": "text/x-python",
   "name": "python",
   "nbconvert_exporter": "python",
   "pygments_lexer": "ipython3",
   "version": "3.9.4"
  },
  "orig_nbformat": 4
 },
 "nbformat": 4,
 "nbformat_minor": 2
}
