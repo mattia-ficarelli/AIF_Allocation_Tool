{
 "cells": [
  {
   "cell_type": "code",
   "execution_count": 1,
   "source": [
    "import pandas as pd\n",
    "path = \"data/gp_practice_weighted_population.xlsx\"  # excel file containing the gp practice level data\n",
    "data = pd.read_excel(path, sheet_name ='GP practice WP by ICS', header = 0, usecols=\"F,L,M:AC\")  # Dataframe with specific columns that will be used"
   ],
   "outputs": [],
   "metadata": {}
  },
  {
   "cell_type": "code",
   "execution_count": 2,
   "source": [
    "# Manipulate loaded dataframe\n",
    "\n",
    "data = data.rename(columns={\"STP21_42\": \"ICS\", \"GP practice name\": \"practice_name\"})  # Rename some columns with more sensible names\n",
    "data[\"Practice\"] = data[\"Practice\"] + \" \" + \":\" + \" \" + data[\"practice_name\"]  # Concatenate practice name with practice code to ensure all practices are unique"
   ],
   "outputs": [],
   "metadata": {}
  },
  {
   "cell_type": "code",
   "execution_count": 6,
   "source": [
    "# Session state initialisation and variables, this ensures that everytime a user adds a place, the previous places remain.\n",
    "col_list = list(data.columns.to_list())  # create a list of columns exactly the same as those in the original data for the output df"
   ],
   "outputs": [],
   "metadata": {}
  },
  {
   "cell_type": "code",
   "execution_count": 7,
   "source": [
    "col_list = col_list.append(\"Place_Name\")  # add a Place Name column which will be used to group practices by defined place\n",
    "output_df = pd.DataFrame(columns=col_list)  # initialise empty output dataframe with defined column names\n",
    "output_df\n",
    "lists=[]\n",
    "places=[]  # initialise session state, empty df that will hold places and empty list that will hold assigned practices\n",
    "flat_list = [item for sublist in lists for item in sublist]  # session state list is a list of lists so this unpacks them into one single flat list to use later\n"
   ],
   "outputs": [],
   "metadata": {}
  },
  {
   "cell_type": "code",
   "execution_count": 10,
   "source": [
    "# Drop downs for user manipulation/selection of data\n",
    "ics = data['ICS'].drop_duplicates()  # pandas series of unique ICSs for dropdown list\n",
    "ics = ics.sort_values()  # sort ICSs in alphabetical order\n",
    "ics_choice = \"Cumbria and North East\"  # dropdown for selecting ICS\n",
    "practices = list(data[\"Practice\"].loc[data[\"ICS\"] == ics_choice])  # dynamic list of practices that changes based on selected ICS\n",
    "practices = [x for x in practices if x not in flat_list]  # this removes practices that have been assigned to a place from the practices dropdown list\n",
    "practice_choice = [\"A83005 : Whinfield Medical Practice\", \"A83006 : Orchard Court Surgery\"]\n",
    "place_name = \"Group 1\""
   ],
   "outputs": [],
   "metadata": {}
  },
  {
   "cell_type": "code",
   "execution_count": 16,
   "source": [
    "\n",
    "place_practices = list(practice_choice)  # Assign the practices in the newly defined place to a list\n",
    "df_1 = data.query(\"Practice == @place_practices\")  # Queries the original data and only returns the selected practices\n",
    "df_1[\"Place Name\"] = place_name  # adds the place name to the dataframe to allow it to be used for aggregation\n",
    "df_1\n"
   ],
   "outputs": [
    {
     "output_type": "stream",
     "name": "stderr",
     "text": [
      "<ipython-input-16-849b57c797d7>:3: SettingWithCopyWarning: \n",
      "A value is trying to be set on a copy of a slice from a DataFrame.\n",
      "Try using .loc[row_indexer,col_indexer] = value instead\n",
      "\n",
      "See the caveats in the documentation: https://pandas.pydata.org/pandas-docs/stable/user_guide/indexing.html#returning-a-view-versus-a-copy\n",
      "  df_1[\"Place Name\"] = place_name  # adds the place name to the dataframe to allow it to be used for aggregation\n"
     ]
    },
    {
     "output_type": "execute_result",
     "data": {
      "text/html": [
       "<div>\n",
       "<style scoped>\n",
       "    .dataframe tbody tr th:only-of-type {\n",
       "        vertical-align: middle;\n",
       "    }\n",
       "\n",
       "    .dataframe tbody tr th {\n",
       "        vertical-align: top;\n",
       "    }\n",
       "\n",
       "    .dataframe thead th {\n",
       "        text-align: right;\n",
       "    }\n",
       "</style>\n",
       "<table border=\"1\" class=\"dataframe\">\n",
       "  <thead>\n",
       "    <tr style=\"text-align: right;\">\n",
       "      <th></th>\n",
       "      <th>ICS</th>\n",
       "      <th>Practice</th>\n",
       "      <th>practice_name</th>\n",
       "      <th>GP_pop</th>\n",
       "      <th>WP_G&amp;A</th>\n",
       "      <th>WP_CS</th>\n",
       "      <th>WP_MH</th>\n",
       "      <th>WP_Mat</th>\n",
       "      <th>WP_HCHS</th>\n",
       "      <th>MFF_index</th>\n",
       "      <th>EACA_index</th>\n",
       "      <th>WP_MFF</th>\n",
       "      <th>WP_EACA</th>\n",
       "      <th>WP_Presc</th>\n",
       "      <th>WP_AM</th>\n",
       "      <th>Target_exc_remote_£k</th>\n",
       "      <th>Target_inc_remote_£k</th>\n",
       "      <th>WP_Overall</th>\n",
       "      <th>Need_index</th>\n",
       "      <th>Place Name</th>\n",
       "    </tr>\n",
       "  </thead>\n",
       "  <tbody>\n",
       "    <tr>\n",
       "      <th>0</th>\n",
       "      <td>Cumbria and North East</td>\n",
       "      <td>A83005 : Whinfield Medical Practice</td>\n",
       "      <td>Whinfield Medical Practice</td>\n",
       "      <td>11832.000000</td>\n",
       "      <td>14223.289062</td>\n",
       "      <td>14635.094727</td>\n",
       "      <td>13431.027344</td>\n",
       "      <td>10383.470703</td>\n",
       "      <td>13971.007288</td>\n",
       "      <td>0.944639</td>\n",
       "      <td>0.997954</td>\n",
       "      <td>11176.968969</td>\n",
       "      <td>11807.794679</td>\n",
       "      <td>13719.485352</td>\n",
       "      <td>14287.391264</td>\n",
       "      <td>16745.507963</td>\n",
       "      <td>16745.507963</td>\n",
       "      <td>13335.857051</td>\n",
       "      <td>1.127101</td>\n",
       "      <td>Group 1</td>\n",
       "    </tr>\n",
       "    <tr>\n",
       "      <th>1</th>\n",
       "      <td>Cumbria and North East</td>\n",
       "      <td>A83006 : Orchard Court Surgery</td>\n",
       "      <td>Orchard Court Surgery</td>\n",
       "      <td>8035.083496</td>\n",
       "      <td>8809.822266</td>\n",
       "      <td>8601.802734</td>\n",
       "      <td>8451.464844</td>\n",
       "      <td>8028.321777</td>\n",
       "      <td>8710.220464</td>\n",
       "      <td>0.944639</td>\n",
       "      <td>0.997954</td>\n",
       "      <td>7590.253457</td>\n",
       "      <td>8018.645719</td>\n",
       "      <td>8750.815430</td>\n",
       "      <td>9782.611422</td>\n",
       "      <td>10571.726654</td>\n",
       "      <td>10571.726654</td>\n",
       "      <td>8419.155498</td>\n",
       "      <td>1.047799</td>\n",
       "      <td>Group 1</td>\n",
       "    </tr>\n",
       "  </tbody>\n",
       "</table>\n",
       "</div>"
      ],
      "text/plain": [
       "                      ICS                             Practice  \\\n",
       "0  Cumbria and North East  A83005 : Whinfield Medical Practice   \n",
       "1  Cumbria and North East       A83006 : Orchard Court Surgery   \n",
       "\n",
       "                practice_name        GP_pop        WP_G&A         WP_CS  \\\n",
       "0  Whinfield Medical Practice  11832.000000  14223.289062  14635.094727   \n",
       "1       Orchard Court Surgery   8035.083496   8809.822266   8601.802734   \n",
       "\n",
       "          WP_MH        WP_Mat       WP_HCHS  MFF_index  EACA_index  \\\n",
       "0  13431.027344  10383.470703  13971.007288   0.944639    0.997954   \n",
       "1   8451.464844   8028.321777   8710.220464   0.944639    0.997954   \n",
       "\n",
       "         WP_MFF       WP_EACA      WP_Presc         WP_AM  \\\n",
       "0  11176.968969  11807.794679  13719.485352  14287.391264   \n",
       "1   7590.253457   8018.645719   8750.815430   9782.611422   \n",
       "\n",
       "   Target_exc_remote_£k  Target_inc_remote_£k    WP_Overall  Need_index  \\\n",
       "0          16745.507963          16745.507963  13335.857051    1.127101   \n",
       "1          10571.726654          10571.726654   8419.155498    1.047799   \n",
       "\n",
       "  Place Name  \n",
       "0    Group 1  \n",
       "1    Group 1  "
      ]
     },
     "metadata": {},
     "execution_count": 16
    }
   ],
   "metadata": {}
  },
  {
   "cell_type": "code",
   "execution_count": 18,
   "source": [
    "df_2 = df_1.groupby('Place Name').agg(\n",
    "    {'GP_pop': 'sum', 'WP_G&A': 'sum', 'WP_CS': 'sum', 'WP_MH': 'sum', 'WP_Mat': 'sum', 'WP_HCHS': 'sum', 'EACA_index' : 'sum', \"WP_Presc\": 'sum', \"WP_AM\": 'sum', \"WP_Overall\": \"sum\"})  # aggregates the practices to give the aggregated place values\n",
    "df_2 = df_2.apply(round)\n",
    "df_2"
   ],
   "outputs": [
    {
     "output_type": "execute_result",
     "data": {
      "text/html": [
       "<div>\n",
       "<style scoped>\n",
       "    .dataframe tbody tr th:only-of-type {\n",
       "        vertical-align: middle;\n",
       "    }\n",
       "\n",
       "    .dataframe tbody tr th {\n",
       "        vertical-align: top;\n",
       "    }\n",
       "\n",
       "    .dataframe thead th {\n",
       "        text-align: right;\n",
       "    }\n",
       "</style>\n",
       "<table border=\"1\" class=\"dataframe\">\n",
       "  <thead>\n",
       "    <tr style=\"text-align: right;\">\n",
       "      <th></th>\n",
       "      <th>GP_pop</th>\n",
       "      <th>WP_G&amp;A</th>\n",
       "      <th>WP_CS</th>\n",
       "      <th>WP_MH</th>\n",
       "      <th>WP_Mat</th>\n",
       "      <th>WP_HCHS</th>\n",
       "      <th>EACA_index</th>\n",
       "      <th>WP_Presc</th>\n",
       "      <th>WP_AM</th>\n",
       "      <th>WP_Overall</th>\n",
       "    </tr>\n",
       "    <tr>\n",
       "      <th>Place Name</th>\n",
       "      <th></th>\n",
       "      <th></th>\n",
       "      <th></th>\n",
       "      <th></th>\n",
       "      <th></th>\n",
       "      <th></th>\n",
       "      <th></th>\n",
       "      <th></th>\n",
       "      <th></th>\n",
       "      <th></th>\n",
       "    </tr>\n",
       "  </thead>\n",
       "  <tbody>\n",
       "    <tr>\n",
       "      <th>Group 1</th>\n",
       "      <td>19867.0</td>\n",
       "      <td>23033.0</td>\n",
       "      <td>23237.0</td>\n",
       "      <td>21882.0</td>\n",
       "      <td>18412.0</td>\n",
       "      <td>22681.0</td>\n",
       "      <td>2.0</td>\n",
       "      <td>22470.0</td>\n",
       "      <td>24070.0</td>\n",
       "      <td>21755.0</td>\n",
       "    </tr>\n",
       "  </tbody>\n",
       "</table>\n",
       "</div>"
      ],
      "text/plain": [
       "             GP_pop   WP_G&A    WP_CS    WP_MH   WP_Mat  WP_HCHS  EACA_index  \\\n",
       "Place Name                                                                     \n",
       "Group 1     19867.0  23033.0  23237.0  21882.0  18412.0  22681.0         2.0   \n",
       "\n",
       "            WP_Presc    WP_AM  WP_Overall  \n",
       "Place Name                                 \n",
       "Group 1      22470.0  24070.0     21755.0  "
      ]
     },
     "metadata": {},
     "execution_count": 18
    }
   ],
   "metadata": {}
  }
 ],
 "metadata": {
  "orig_nbformat": 4,
  "language_info": {
   "name": "python",
   "version": "3.8.5",
   "mimetype": "text/x-python",
   "codemirror_mode": {
    "name": "ipython",
    "version": 3
   },
   "pygments_lexer": "ipython3",
   "nbconvert_exporter": "python",
   "file_extension": ".py"
  },
  "kernelspec": {
   "name": "python3",
   "display_name": "Python 3.8.5 64-bit ('base': conda)"
  },
  "interpreter": {
   "hash": "569d6b7e9215e11aba41c6454007e5c1b78bad7df09dab765d8cf00362c40f03"
  }
 },
 "nbformat": 4,
 "nbformat_minor": 2
}